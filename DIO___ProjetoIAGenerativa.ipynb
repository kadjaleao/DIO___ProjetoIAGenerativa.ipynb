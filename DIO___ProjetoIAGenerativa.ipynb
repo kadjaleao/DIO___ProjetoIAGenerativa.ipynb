{
  "nbformat": 4,
  "nbformat_minor": 0,
  "metadata": {
    "colab": {
      "provenance": []
    },
    "kernelspec": {
      "name": "python3",
      "display_name": "Python 3"
    },
    "language_info": {
      "name": "python"
    }
  },
  "cells": [
    {
      "cell_type": "code",
      "source": [
        "#pip install openai"
      ],
      "metadata": {
        "id": "6LUIJCp924VE"
      },
      "execution_count": 21,
      "outputs": []
    },
    {
      "cell_type": "code",
      "execution_count": 22,
      "metadata": {
        "id": "b9rQgWEr2yMW"
      },
      "outputs": [],
      "source": [
        "import pandas as pd\n",
        "import requests\n",
        "import json\n",
        "import openai"
      ]
    },
    {
      "cell_type": "code",
      "source": [
        "df = pd.read_csv(r'SWD2023.csv')\n",
        "users_id = df['UserId'].tolist()\n",
        "print(users_id)"
      ],
      "metadata": {
        "colab": {
          "base_uri": "https://localhost:8080/"
        },
        "id": "lkLyb3Nq21Al",
        "outputId": "dbc58c60-7122-4bdb-b862-f3ded340eeb2"
      },
      "execution_count": 25,
      "outputs": [
        {
          "output_type": "stream",
          "name": "stdout",
          "text": [
            "[3645, 3608, 3607]\n"
          ]
        }
      ]
    },
    {
      "cell_type": "code",
      "source": [
        "def get_user_data(user_id):\n",
        "    url = f'https://sdw-2023-prd.up.railway.app/users/{user_id}'\n",
        "    response = requests.get(url)\n",
        "    if response.status_code == 200:\n",
        "        return response.json()\n",
        "    else:\n",
        "        raise Exception(f'Erro ao obter dados do usuário: {response.status_code}')"
      ],
      "metadata": {
        "id": "yiJzfIh93AAD"
      },
      "execution_count": 26,
      "outputs": []
    },
    {
      "cell_type": "code",
      "source": [
        "def generate_marketing_message(user_data):\n",
        "    # Gerar uma mensagem de marketing personalizada\n",
        "    topic = 'investimentos'\n",
        "    response = OpenAI.create(\n",
        "        engine='davinci',\n",
        "        prompt=f'Olá {user_data[\"name\"]}. Você está interessado em investir?',\n",
        "        temperature=0.7,\n",
        "        max_tokens=50\n",
        "    )\n",
        "    # Remover o prompt da mensagem\n",
        "    return response['choices'][0]['text'].replace(topic, '')"
      ],
      "metadata": {
        "id": "vACSdaQc34c3"
      },
      "execution_count": 27,
      "outputs": []
    },
    {
      "cell_type": "code",
      "source": [
        "generate_marketing_message"
      ],
      "metadata": {
        "colab": {
          "base_uri": "https://localhost:8080/"
        },
        "id": "a9bHejw_4cvL",
        "outputId": "0d1ebca9-be94-4824-9401-5febbf115fdc"
      },
      "execution_count": 28,
      "outputs": [
        {
          "output_type": "execute_result",
          "data": {
            "text/plain": [
              "<function __main__.generate_marketing_message(user_data)>"
            ]
          },
          "metadata": {},
          "execution_count": 28
        }
      ]
    },
    {
      "cell_type": "code",
      "source": [],
      "metadata": {
        "id": "Qqo3DV8l7BWr"
      },
      "execution_count": null,
      "outputs": []
    }
  ]
}